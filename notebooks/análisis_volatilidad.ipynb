!pip install statsmodels arch #instalamos statsmodels y arch
!pip install yfinance



# Importar librerías necesarias
import pandas as pd
import numpy as np
import matplotlib.pyplot as plt
import yfinance as yf
from statsmodels.tsa.arima.model import ARIMA
from arch import arch_model

# Definir el ticker y el rango de fechas
TICKER = 'AAPL'
START_DATE = '2020-01-01'
END_DATE = '2023-01-01'

# Función para descargar datos de Yahoo Finance
def descargar_datos(ticker, start, end):
    try:
        data = yf.download(ticker, start=start, end=end)
        data['Log Returns'] = np.log(data['Close'] / data['Close'].shift(1))
        data.dropna(inplace=True)
        return data
    except Exception as e:
        print(f"Error al descargar los datos: {e}")
        return None

# Función para graficar datos históricos
def graficar_precio_cierre(data):
    plt.figure(figsize=(10, 6))
    plt.plot(data.index, data['Close'], label='Precio de Cierre')
    plt.title(f'Evolución del Precio de Cierre de {TICKER}')
    plt.xlabel('Fecha')
    plt.ylabel('Precio (USD)')
    plt.legend()
    plt.grid(True)
    plt.show()

# Función para ajustar un modelo ARIMA
def ajustar_arima(data):
    model = ARIMA(data['Log Returns'], order=(1, 0, 1))
    result = model.fit()
    print(result.summary())
    return result

# Función para ajustar un modelo GARCH
def ajustar_garch(data):
    model = arch_model(data['Log Returns'], vol='Garch', p=1, q=1)
    result = model.fit()
    print(result.summary())
    return result

# Función para graficar volatilidad condicional
def graficar_volatilidad(data, result_garch):
    plt.figure(figsize=(10, 6))
    plt.plot(data.index, result_garch.conditional_volatility, color='red', label="Volatilidad Condicional Estimada")
    plt.title(f"Evolución de la Volatilidad Estimada ({TICKER})")
    plt.xlabel("Fecha")
    plt.ylabel("Volatilidad Condicional")
    plt.legend()
    plt.grid(True)
    plt.show()

# Función para predecir volatilidad futura
def predecir_volatilidad(result_garch, data, horizon=30):
    forecast = result_garch.forecast(horizon=horizon)
    volatility_forecast = np.sqrt(forecast.variance.iloc[-1].values)  # Obtener volatilidad esperada
    future_dates = pd.date_range(start=data.index[-1], periods=horizon+1)[1:]
    
    plt.figure(figsize=(10, 5))
    plt.plot(future_dates, volatility_forecast, marker='o', linestyle='dashed', color='red', label="Predicción de Volatilidad")
    plt.title("Predicción de Volatilidad para los Próximos 30 Días")
    plt.xlabel("Fecha")
    plt.ylabel("Volatilidad")
    plt.legend()
    plt.grid(True)
    plt.show()
    
    return volatility_forecast

# Función para comparar predicción vs. volatilidad real
def comparar_volatilidad(ticker, start_date, end_date, garch_forecast, data):
    # Descargar datos futuros
    new_data = yf.download(ticker, start=start_date, end=end_date)
    new_data['Log Returns'] = np.log(new_data['Close'] / new_data['Close'].shift(1))
    new_data.dropna(inplace=True)

    # Calcular volatilidad real
    window_size = 5
    new_data['Realized Volatility'] = np.sqrt((new_data['Log Returns']**2).rolling(window=window_size).mean())
    
    # Ajustar dimensiones de la predicción GARCH
    available_dates = new_data.index  # Fechas disponibles en los datos reales
    garch_forecast_filtered = garch_forecast[:len(available_dates)]  # Ajustar al tamaño de los datos reales

    # Graficar comparación
    plt.figure(figsize=(12, 6))
    plt.plot(available_dates, garch_forecast_filtered, marker='o', linestyle='dashed', color='red', label="Predicción GARCH")
    plt.plot(new_data.index, new_data['Realized Volatility'], marker='s', linestyle='solid', color='blue', label="Volatilidad Real")
    plt.title("Comparación: Predicción de Volatilidad vs. Volatilidad Real")
    plt.xlabel("Fecha")
    plt.ylabel("Volatilidad")
    plt.legend()
    plt.grid(True)
    plt.show()

# Ejecutar todo el proceso
data = descargar_datos(TICKER, START_DATE, END_DATE)
if data is not None:
    graficar_precio_cierre(data)
    result_arima = ajustar_arima(data)
    result_garch = ajustar_garch(data)
    graficar_volatilidad(data, result_garch)
    garch_forecast = predecir_volatilidad(result_garch, data)
    comparar_volatilidad(TICKER, '2023-01-01', '2023-02-01', garch_forecast, data)
